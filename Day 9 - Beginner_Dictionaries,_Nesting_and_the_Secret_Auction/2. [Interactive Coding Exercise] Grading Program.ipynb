{
 "cells": [
  {
   "cell_type": "markdown",
   "metadata": {},
   "source": [
    "# [Interactive Coding Exercise] Grading Program"
   ]
  },
  {
   "cell_type": "markdown",
   "metadata": {},
   "source": [
    "Grading Program\n",
    "You have access to a database of student_scores in the format of a dictionary. The keys in student_scores are the names of the students and the values are their exam scores. \n",
    "\n",
    "\n",
    "\n",
    "Write a program that converts their scores to grades.\n",
    "\n",
    "\n",
    "\n",
    "By the end of your program, you should have a new dictionary called student_grades that should contain student names as keys and their assessed grades for values. \n",
    "\n",
    "\n",
    "\n",
    "The final version of the student_grades dictionary will be checked. \n",
    "\n",
    "\n",
    "\n",
    "**DO NOT** modify lines 1-7 to change the existing student_scores dictionary. \n",
    "\n",
    "\n",
    "\n",
    "This is the scoring criteria: \n",
    "\n",
    "- Scores 91 - 100: Grade = \"Outstanding\" \n",
    "\n",
    "- Scores 81 - 90: Grade = \"Exceeds Expectations\" \n",
    "\n",
    "- Scores 71 - 80: Grade = \"Acceptable\" \n",
    "\n",
    "- Scores 70 or lower: Grade = \"Fail\" "
   ]
  },
  {
   "cell_type": "code",
   "execution_count": 13,
   "metadata": {},
   "outputs": [
    {
     "name": "stdout",
     "output_type": "stream",
     "text": [
      "{'Harry': 'Exceeds Expectations', 'Ron': 'Acceptable', 'Hermione': 'Outstanding', 'Draco': 'Acceptable', 'Neville': 'Fail'}\n"
     ]
    }
   ],
   "source": [
    "student_scores = {\n",
    "    'Harry': 88,\n",
    "    'Ron': 78,\n",
    "    'Hermione': 95,\n",
    "    'Draco': 75,\n",
    "    'Neville': 60\n",
    "}\n",
    "\n",
    "student_grades ={}\n",
    "\n",
    "for grades in student_scores:\n",
    "    if student_scores[grades]>=91:\n",
    "        student_scores[grades]=\"Outstanding\"\n",
    "\n",
    "    elif student_scores[grades]>=81:\n",
    "        student_scores[grades]=\"Exceeds Expectations\"\n",
    "    \n",
    "    elif student_scores[grades]>=71:\n",
    "        student_scores[grades]=\"Acceptable\" \n",
    "    else:\n",
    "\n",
    "        student_scores[grades]=\"Fail\" \n",
    "    studnet ={\n",
    "    grades:student_scores[grades]\n",
    "   }\n",
    "    student_grades.update(studnet)\n",
    "\n",
    "print(student_grades)\n",
    "\n",
    "\n"
   ]
  },
  {
   "cell_type": "code",
   "execution_count": null,
   "metadata": {},
   "outputs": [],
   "source": []
  }
 ],
 "metadata": {
  "kernelspec": {
   "display_name": ".venv",
   "language": "python",
   "name": "python3"
  },
  "language_info": {
   "codemirror_mode": {
    "name": "ipython",
    "version": 3
   },
   "file_extension": ".py",
   "mimetype": "text/x-python",
   "name": "python",
   "nbconvert_exporter": "python",
   "pygments_lexer": "ipython3",
   "version": "3.12.4"
  }
 },
 "nbformat": 4,
 "nbformat_minor": 2
}
