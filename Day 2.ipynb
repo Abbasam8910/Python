{
 "cells": [
  {
   "cell_type": "markdown",
   "metadata": {},
   "source": [
    "# Data Types"
   ]
  },
  {
   "cell_type": "markdown",
   "metadata": {},
   "source": [
    "Python Primitive Data Types:\n",
    "\n",
    "1. String\n",
    "2. Integers\n",
    "3. Floats\n",
    "4. Booleans"
   ]
  },
  {
   "cell_type": "markdown",
   "metadata": {},
   "source": [
    "Subscripting\n"
   ]
  },
  {
   "cell_type": "code",
   "execution_count": 20,
   "metadata": {},
   "outputs": [
    {
     "name": "stdout",
     "output_type": "stream",
     "text": [
      "o\n",
      "l\n",
      "ct\n"
     ]
    }
   ],
   "source": [
    "# Subscripting\n",
    "\n",
    "print(\"Hello\"[4])  \n",
    "print(\"Hello\"[-3])  # We can also give index negative numbers so here the index start from last\n",
    "\n",
    "a=\"Welcome to programming\"\n",
    "\n",
    "print(a[3]+a[8])"
   ]
  },
  {
   "cell_type": "markdown",
   "metadata": {},
   "source": [
    "String"
   ]
  },
  {
   "cell_type": "code",
   "execution_count": 12,
   "metadata": {},
   "outputs": [
    {
     "name": "stdout",
     "output_type": "stream",
     "text": [
      "123456\n"
     ]
    }
   ],
   "source": [
    "#String\n",
    "print(\"123\" + \"456\")  #when we give anything in double quotes it will consider itself as string"
   ]
  },
  {
   "cell_type": "markdown",
   "metadata": {},
   "source": [
    "Integers"
   ]
  },
  {
   "cell_type": "code",
   "execution_count": 22,
   "metadata": {},
   "outputs": [
    {
     "name": "stdout",
     "output_type": "stream",
     "text": [
      "128\n",
      "1000000\n"
     ]
    }
   ],
   "source": [
    "#Integers = whole numbers\n",
    "\n",
    "print(123+5)\n",
    "\n",
    "#Large Numbers\n",
    "\n",
    "print(1_000_000)  #In python if we want to use like this \"1,000,000\" then just add underscore. \n",
    "#Note: the comma seperator will be removed while execution it will just for human visualization"
   ]
  },
  {
   "cell_type": "markdown",
   "metadata": {},
   "source": [
    "Float"
   ]
  },
  {
   "cell_type": "code",
   "execution_count": 17,
   "metadata": {},
   "outputs": [
    {
     "name": "stdout",
     "output_type": "stream",
     "text": [
      "34.34234\n"
     ]
    }
   ],
   "source": [
    "# Float = floating point number\n",
    "\n",
    "print(34.34234)"
   ]
  },
  {
   "cell_type": "markdown",
   "metadata": {},
   "source": [
    "Boolean"
   ]
  },
  {
   "cell_type": "code",
   "execution_count": 19,
   "metadata": {},
   "outputs": [
    {
     "name": "stdout",
     "output_type": "stream",
     "text": [
      "True\n",
      "False\n"
     ]
    }
   ],
   "source": [
    "#Boolean\n",
    "\n",
    "print(True)   # True first letter should be capital\n",
    "print(False)  #False first letter should be capital"
   ]
  },
  {
   "cell_type": "markdown",
   "metadata": {},
   "source": [
    "# Type Error, Checking and Conversion"
   ]
  },
  {
   "cell_type": "code",
   "execution_count": 24,
   "metadata": {},
   "outputs": [
    {
     "name": "stdout",
     "output_type": "stream",
     "text": [
      "8\n"
     ]
    }
   ],
   "source": [
    "# len(23242)   wrong\n",
    "\n",
    "print(len(str(23323424)))   # we have to convert to string then check the lenght\n"
   ]
  },
  {
   "cell_type": "markdown",
   "metadata": {},
   "source": [
    "Type Checking"
   ]
  },
  {
   "cell_type": "code",
   "execution_count": 28,
   "metadata": {},
   "outputs": [
    {
     "name": "stdout",
     "output_type": "stream",
     "text": [
      "<class 'int'>\n",
      "<class 'str'>\n",
      "<class 'bool'>\n",
      "<class 'float'>\n"
     ]
    }
   ],
   "source": [
    "print(type(343))\n",
    "print(type(\"Hello\"))\n",
    "print(type(True))\n",
    "print(type(234.232))"
   ]
  },
  {
   "cell_type": "markdown",
   "metadata": {},
   "source": [
    "Type Convertion OR Type Casting"
   ]
  },
  {
   "cell_type": "code",
   "execution_count": 44,
   "metadata": {},
   "outputs": [
    {
     "name": "stdout",
     "output_type": "stream",
     "text": [
      "232\n",
      "16\n",
      "128\n",
      "Number of Letters in your name:  5\n"
     ]
    }
   ],
   "source": [
    "print(int(232))\n",
    "print(int(12+4))\n",
    "\n",
    "print(int(\"123\") + int(\"5\"))  # Earlier this was not possible.\n",
    "\n",
    "print(\"Number of Letters in your name: \", len(input(\"Enter Your Name\")))\n",
    "# print(\"Number of Letters in your name is: \" + len(str(input(\"Enter your name:\"))))"
   ]
  },
  {
   "cell_type": "code",
   "execution_count": null,
   "metadata": {},
   "outputs": [],
   "source": []
  }
 ],
 "metadata": {
  "kernelspec": {
   "display_name": "Python 3",
   "language": "python",
   "name": "python3"
  },
  "language_info": {
   "codemirror_mode": {
    "name": "ipython",
    "version": 3
   },
   "file_extension": ".py",
   "mimetype": "text/x-python",
   "name": "python",
   "nbconvert_exporter": "python",
   "pygments_lexer": "ipython3",
   "version": "3.12.4"
  }
 },
 "nbformat": 4,
 "nbformat_minor": 2
}
