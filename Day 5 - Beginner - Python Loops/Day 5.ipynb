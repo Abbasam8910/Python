{
 "cells": [
  {
   "cell_type": "markdown",
   "metadata": {},
   "source": [
    "# Using the for loop with Python Lists"
   ]
  },
  {
   "cell_type": "markdown",
   "metadata": {},
   "source": [
    "For Loop"
   ]
  },
  {
   "cell_type": "code",
   "execution_count": 6,
   "metadata": {},
   "outputs": [
    {
     "name": "stdout",
     "output_type": "stream",
     "text": [
      "Apple\n",
      "Apple Watermelon\n",
      "Orange\n",
      "Orange Watermelon\n",
      "Mango\n",
      "Mango Watermelon\n",
      "Pineapple\n",
      "Pineapple Watermelon\n"
     ]
    }
   ],
   "source": [
    "Fruits=[\"Apple\", \"Orange\", \"Mango\", \"Pineapple\"]\n",
    "\n",
    "for fruit in Fruits:\n",
    "    print(fruit)\n",
    "\n",
    "    print(fruit + \" Watermelon\")"
   ]
  },
  {
   "cell_type": "code",
   "execution_count": 8,
   "metadata": {},
   "outputs": [
    {
     "name": "stdout",
     "output_type": "stream",
     "text": [
      "1146\n",
      "1146\n"
     ]
    }
   ],
   "source": [
    "# Highest Score\n",
    "\n",
    "score=[180, 124, 165, 173, 189, 169, 146]\n",
    "\n",
    "total_score=sum(score)\n",
    "\n",
    "print(total_score)\n",
    "# another way of sum()\n",
    "sum=0\n",
    "\n",
    "for x in score:\n",
    "    sum=sum+x\n",
    "\n",
    "print(sum)\n"
   ]
  },
  {
   "cell_type": "code",
   "execution_count": 15,
   "metadata": {},
   "outputs": [
    {
     "name": "stdout",
     "output_type": "stream",
     "text": [
      "456\n",
      "456\n"
     ]
    }
   ],
   "source": [
    "# Max score\n",
    "score=[180, 124, 165, 173, 189, 169, 146,456]\n",
    "\n",
    "print(max(score))\n",
    "\n",
    "# Another way\n",
    "Max_value=0\n",
    "for x in score:\n",
    "    if(Max_value<x):\n",
    "        Max_value=x\n",
    "    \n",
    "\n",
    "print(Max_value)\n"
   ]
  },
  {
   "cell_type": "markdown",
   "metadata": {},
   "source": [
    "# For Loop and Range() Function"
   ]
  },
  {
   "cell_type": "code",
   "execution_count": 19,
   "metadata": {},
   "outputs": [
    {
     "name": "stdout",
     "output_type": "stream",
     "text": [
      "1\n",
      "2\n",
      "3\n",
      "4\n",
      "5\n",
      "6\n",
      "7\n",
      "8\n",
      "9\n",
      "----------------------\n",
      "1\n",
      "4\n",
      "7\n"
     ]
    }
   ],
   "source": [
    "for x in range(1,10):  # Here it will include one but Exclude 10\n",
    "    print(x)\n",
    "\n",
    "print(\"----------------------\")\n",
    "for number in range(1,10, 3):  # Skipping 3 values and printing\n",
    "    print(number)"
   ]
  },
  {
   "cell_type": "markdown",
   "metadata": {},
   "source": [
    "The Gauss Challenge"
   ]
  },
  {
   "cell_type": "code",
   "execution_count": 21,
   "metadata": {},
   "outputs": [
    {
     "name": "stdout",
     "output_type": "stream",
     "text": [
      "5050\n"
     ]
    }
   ],
   "source": [
    "# Find sum of all numbers between 1 and 100\n",
    "\n",
    "\n",
    "sum=0\n",
    "\n",
    "for num in range(1,101):\n",
    "    sum=sum+num\n",
    "print(sum)"
   ]
  }
 ],
 "metadata": {
  "kernelspec": {
   "display_name": ".venv",
   "language": "python",
   "name": "python3"
  },
  "language_info": {
   "codemirror_mode": {
    "name": "ipython",
    "version": 3
   },
   "file_extension": ".py",
   "mimetype": "text/x-python",
   "name": "python",
   "nbconvert_exporter": "python",
   "pygments_lexer": "ipython3",
   "version": "3.12.4"
  }
 },
 "nbformat": 4,
 "nbformat_minor": 2
}
