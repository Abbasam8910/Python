{
 "cells": [
  {
   "cell_type": "markdown",
   "metadata": {},
   "source": [
    "# Control Flow with If/Else and Conditional Operators\n"
   ]
  },
  {
   "cell_type": "code",
   "execution_count": 3,
   "metadata": {},
   "outputs": [
    {
     "name": "stdout",
     "output_type": "stream",
     "text": [
      "Welcome to Rollercoaster!\n",
      "You Can Enter Rollercoaster\n"
     ]
    }
   ],
   "source": [
    "print(\"Welcome to Rollercoaster!\")\n",
    "\n",
    "height=int(input(\"Enter Your Height: \\n\"))\n",
    "\n",
    "if height>=120:\n",
    "    print(\"You Can Enter Rollercoaster\")\n",
    "\n",
    "else:\n",
    "    print(\"Sorry you cannot enter rollercoaster\")"
   ]
  },
  {
   "cell_type": "markdown",
   "metadata": {},
   "source": [
    "Modulo Operator"
   ]
  },
  {
   "cell_type": "code",
   "execution_count": 9,
   "metadata": {},
   "outputs": [
    {
     "name": "stdout",
     "output_type": "stream",
     "text": [
      "39 is Odd Number\n"
     ]
    }
   ],
   "source": [
    "# Check even or Odd\n",
    "\n",
    "num=int(input(\"Enter a Number to Check Even or Odd\"))\n",
    "\n",
    "if num%2==0:\n",
    "    print(f\"{num} is Even Number\")\n",
    "else:\n",
    "    print(f\"{num} is Odd Number\")"
   ]
  },
  {
   "cell_type": "markdown",
   "metadata": {},
   "source": [
    "Nested If and Elif Statement"
   ]
  },
  {
   "cell_type": "code",
   "execution_count": 12,
   "metadata": {},
   "outputs": [
    {
     "name": "stdout",
     "output_type": "stream",
     "text": [
      "Welcome to Rollercoaster!\n",
      "Pay rs 100\n"
     ]
    }
   ],
   "source": [
    "print(\"Welcome to Rollercoaster!\")\n",
    "\n",
    "height=int(input(\"Enter Your Height: \\n\"))\n",
    "\n",
    "if height>=120:\n",
    "    age=int(input(\"Enter Your Age\"))\n",
    "    if age<=15:\n",
    "\n",
    "        print(\"Pay Rs 25\")\n",
    "    elif age<=18:\n",
    "        print(\"pay Rs 50\")\n",
    "\n",
    "    else:\n",
    "        print(\"Pay rs 100\")\n",
    "else:\n",
    "    print(\"Sorry you cannot enter rollercoaster\")"
   ]
  },
  {
   "cell_type": "markdown",
   "metadata": {},
   "source": [
    "Multiple If condition"
   ]
  },
  {
   "cell_type": "code",
   "execution_count": 19,
   "metadata": {},
   "outputs": [
    {
     "name": "stdout",
     "output_type": "stream",
     "text": [
      "Welcome to Rollercoaster!\n",
      "pay Rs 100\n"
     ]
    }
   ],
   "source": [
    "print(\"Welcome to Rollercoaster!\")\n",
    "\n",
    "height=int(input(\"Enter Your Height: \\n\"))\n",
    "\n",
    "if height>=120:\n",
    "    age=int(input(\"Enter Your Age\"))\n",
    "    if age<12:\n",
    "\n",
    "       \n",
    "\n",
    "        photo=input(\"Do you want photo:\\n\")\n",
    "\n",
    "        if photo ==\"yes\":\n",
    "            print(\"Pay Rs 30\")\n",
    "        else:\n",
    "            print(\"pay Rs 25\")\n",
    "\n",
    "    elif age<18:\n",
    "\n",
    "\n",
    "        photo=input(\"Do you want photo:\\n\")\n",
    "\n",
    "        if photo ==\"yes\":\n",
    "            print(\"Pay Rs 55\")\n",
    "        else:\n",
    "            print(\"pay Rs 50\")\n",
    "\n",
    "    else:\n",
    "        photo=input(\"Do you want photo:\\n\")\n",
    "\n",
    "        if photo ==\"yes\":\n",
    "            print(\"Pay Rs 150\")\n",
    "        else:\n",
    "            print(\"pay Rs 100\")\n",
    "else:\n",
    "    print(\"Sorry you cannot enter rollercoaster\")"
   ]
  },
  {
   "cell_type": "code",
   "execution_count": 23,
   "metadata": {},
   "outputs": [
    {
     "name": "stdout",
     "output_type": "stream",
     "text": [
      " ### Welcome to Pizza Hut! ## \n",
      "Total Amount to be padi is 210\n"
     ]
    }
   ],
   "source": [
    "# Pizza Delivery Program\n",
    "\n",
    "print(\" ### Welcome to Pizza Hut! ## \")\n",
    "\n",
    "order=int(input(\"What you like to order \\n 1. Small Pizza(s) \\n 2. Medium Pizza(M) \\n 3.Large Pizza(L) \"))\n",
    "pepperoni=input(\"Do you want to add Pepperoni to your Pizaa Y or N\")\n",
    "cheese=input(\"Do you want to add Extra cheese to your Pizza:\")\n",
    "\n",
    "cash=0\n",
    "\n",
    "# if order==1:\n",
    "#     cash=90\n",
    "#     if pepperoni==\"y\":\n",
    "#         cash=cash+20\n",
    "#         if cheese==\"y\":\n",
    "#             cash = cash+20\n",
    "\n",
    "#             print(f\"You Total amount is {cash}\")\n",
    "#         else:\n",
    "#            print(f\"You Total amount is {cash}\")\n",
    "#     else:\n",
    "#         if cheese==\"y\":\n",
    "#             cash = cash+20\n",
    "\n",
    "#             print(f\"You Total amount is {cash}\")\n",
    "#         else:\n",
    "#            print(f\"You Total amount is {cash}\")\n",
    "# elif order == 2:\n",
    "#     cash=180\n",
    "#     if pepperoni==\"y\":\n",
    "#         cash=cash+20\n",
    "#         if cheese==\"y\":\n",
    "#             cash = cash+20\n",
    "\n",
    "#             print(f\"You Total amount is {cash}\")\n",
    "#         else:\n",
    "#            print(f\"You Total amount is {cash}\")\n",
    "#     else:\n",
    "#         if cheese==\"y\":\n",
    "#             cash = cash+20\n",
    "\n",
    "#             print(f\"You Total amount is {cash}\")\n",
    "#         else:\n",
    "#            print(f\"You Total amount is {cash}\")\n",
    "\n",
    "# elif order ==3:\n",
    "#     cash=360\n",
    "#     if pepperoni==\"y\":\n",
    "#         cash=cash+20\n",
    "#         if cheese==\"y\":\n",
    "#             cash = cash+20\n",
    "\n",
    "#             print(f\"You Total amount is {cash}\")\n",
    "#         else:\n",
    "#            print(f\"You Total amount is {cash}\")\n",
    "#     else:\n",
    "#         if cheese==\"y\":\n",
    "#             cash = cash+20\n",
    "\n",
    "#             print(f\"You Total amount is {cash}\")\n",
    "#         else:\n",
    "#            print(f\"You Total amount is {cash}\")\n",
    "\n",
    "# else:\n",
    "\n",
    "#     print(\"You Have entered wrong option\")\n",
    "\n",
    "\n",
    "if order ==1:\n",
    "\n",
    "    cash +=90\n",
    "elif order ==2:\n",
    "    cash+=180\n",
    "\n",
    "elif order ==3:\n",
    "    cash+=360\n",
    "else:\n",
    "    print(\"You have entered wrong option\")\n",
    "\n",
    "if pepperoni ==\"y\":\n",
    "    if order ==1:\n",
    "        cash+=20\n",
    "    else:\n",
    "        cash+=30\n",
    "\n",
    "\n",
    "if cheese==\"Y\":\n",
    "    cash+=10\n",
    "\n",
    "\n",
    "print(f\"Total Amount to be padi is {cash}\")\n",
    "\n"
   ]
  },
  {
   "cell_type": "markdown",
   "metadata": {},
   "source": [
    "Logical Operator\n",
    "\n",
    "- AND\n",
    "- OR\n",
    "- Not"
   ]
  },
  {
   "cell_type": "code",
   "execution_count": null,
   "metadata": {},
   "outputs": [],
   "source": [
    "a=10\n",
    "\n",
    "b-20\n",
    "\n"
   ]
  },
  {
   "cell_type": "markdown",
   "metadata": {},
   "source": [
    "# Day 1 Project: Treasure Island"
   ]
  },
  {
   "cell_type": "code",
   "execution_count": 14,
   "metadata": {},
   "outputs": [
    {
     "name": "stderr",
     "output_type": "stream",
     "text": [
      "<>:1: SyntaxWarning: invalid escape sequence '\\`'\n",
      "<>:1: SyntaxWarning: invalid escape sequence '\\`'\n",
      "C:\\Users\\abbas\\AppData\\Local\\Temp\\ipykernel_13884\\3225363524.py:1: SyntaxWarning: invalid escape sequence '\\`'\n",
      "  print('''\n"
     ]
    },
    {
     "name": "stdout",
     "output_type": "stream",
     "text": [
      "\n",
      "*******************************************************************************\n",
      "          |                   |                  |                     |\n",
      " _________|________________.=\"\"_;=.______________|_____________________|_______\n",
      "|                   |  ,-\"_,=\"\"     `\"=.|                  |\n",
      "|___________________|__\"=._o`\"-._        `\"=.______________|___________________\n",
      "          |                `\"=._o`\"=._      _`\"=._                     |\n",
      " _________|_____________________:=._o \"=._.\"_.-=\"'\"=.__________________|_______\n",
      "|                   |    __.--\" , ; `\"=._o.\" ,-\"\"\"-._ \".   |\n",
      "|___________________|_._\"  ,. .` ` `` ,  `\"-._\"-._   \". '__|___________________\n",
      "          |           |o`\"=._` , \"` `; .\". ,  \"-._\"-._; ;              |\n",
      " _________|___________| ;`-.o`\"=._; .\" ` '`.\"\\` . \"-._ /_______________|_______\n",
      "|                   | |o;    `\"-.o`\"=._``  '` \" ,__.--o;   |\n",
      "|___________________|_| ;     (#) `-.o `\"=.`_.--\"_o.-; ;___|___________________\n",
      "____/______/______/___|o;._    \"      `\".o|o_.--\"    ;o;____/______/______/____\n",
      "/______/______/______/_\"=._o--._        ; | ;        ; ;/______/______/______/_\n",
      "____/______/______/______/__\"=._o--._   ;o|o;     _._;o;____/______/______/____\n",
      "/______/______/______/______/____\"=._o._; | ;_.--\"o.--\"_/______/______/______/_\n",
      "____/______/______/______/______/_____\"=.o|o_.--\"\"___/______/______/______/____\n",
      "/______/______/______/______/______/______/______/______/______/______/_____ /\n",
      "*******************************************************************************\n",
      "\n",
      "################### Welcome To TREASURE HUNT #####################\n",
      "\n",
      "\n",
      "\n",
      "\n",
      "Your mission is to find the treasure.\n",
      "YOU WIN\n"
     ]
    }
   ],
   "source": [
    "print('''\n",
    "*******************************************************************************\n",
    "          |                   |                  |                     |\n",
    " _________|________________.=\"\"_;=.______________|_____________________|_______\n",
    "|                   |  ,-\"_,=\"\"     `\"=.|                  |\n",
    "|___________________|__\"=._o`\"-._        `\"=.______________|___________________\n",
    "          |                `\"=._o`\"=._      _`\"=._                     |\n",
    " _________|_____________________:=._o \"=._.\"_.-=\"'\"=.__________________|_______\n",
    "|                   |    __.--\" , ; `\"=._o.\" ,-\"\"\"-._ \".   |\n",
    "|___________________|_._\"  ,. .` ` `` ,  `\"-._\"-._   \". '__|___________________\n",
    "          |           |o`\"=._` , \"` `; .\". ,  \"-._\"-._; ;              |\n",
    " _________|___________| ;`-.o`\"=._; .\" ` '`.\"\\` . \"-._ /_______________|_______\n",
    "|                   | |o;    `\"-.o`\"=._``  '` \" ,__.--o;   |\n",
    "|___________________|_| ;     (#) `-.o `\"=.`_.--\"_o.-; ;___|___________________\n",
    "____/______/______/___|o;._    \"      `\".o|o_.--\"    ;o;____/______/______/____\n",
    "/______/______/______/_\"=._o--._        ; | ;        ; ;/______/______/______/_\n",
    "____/______/______/______/__\"=._o--._   ;o|o;     _._;o;____/______/______/____\n",
    "/______/______/______/______/____\"=._o._; | ;_.--\"o.--\"_/______/______/______/_\n",
    "____/______/______/______/______/_____\"=.o|o_.--\"\"___/______/______/______/____\n",
    "/______/______/______/______/______/______/______/______/______/______/_____ /\n",
    "*******************************************************************************\n",
    "''')\n",
    "\n",
    "\n",
    "print(\"################### Welcome To TREASURE HUNT #####################\")\n",
    "print(\"\\n\") \n",
    "print(\"\\n\")\n",
    "\n",
    "print(\"Your mission is to find the treasure.\")\n",
    "Left_Right=input(\"You are at a crossroad, Where do you want to go? Left or Right\").lower()\n",
    "\n",
    "if Left_Right==\"right\":\n",
    "    print(\"Fall In to a Hole! \\n Game Over\")\n",
    "else:\n",
    "    swim_wait=input(\"Swim or Wait\")\n",
    "    if swim_wait==\"Swim\":\n",
    "        print(\"Attacked by Trout. \\n GAME OVER\")\n",
    "    else:\n",
    "        door=input(\"Which door? Red or Blue or Yellow\").lower()\n",
    "        if door== \"red\":\n",
    "            print(\"Burned by Fire! \\n GAME OVER\")\n",
    "        elif door==\"blue\":\n",
    "            print(\"Eaten By Beast!\\n Game Over\")\n",
    "        elif door==\"yellow\":\n",
    "            print(\"YOU WIN\")\n",
    "        else:\n",
    "            print(\"GAME OVER\")\n",
    "\n",
    "\n",
    "\n",
    "\n",
    "\n",
    "\n",
    "\n"
   ]
  },
  {
   "cell_type": "markdown",
   "metadata": {},
   "source": []
  },
  {
   "cell_type": "code",
   "execution_count": 6,
   "metadata": {},
   "outputs": [
    {
     "name": "stdout",
     "output_type": "stream",
     "text": [
      "{\"key\":\"9ecfc5ed-0e33-44bd-b1ac-552a251bcce5\",\"signature_scheme\":\"hmac-sha256\",\"transport\":\"tcp\",\"ip\":\"127.0.0.1\",\"hb_port\":9000,\"control_port\":9001,\"shell_port\":9002,\"stdin_port\":9003,\"iopub_port\":9004,\"kernel_name\":\"python3124jvsc74a57bd0c030fc7bbcc0cf15434a1ee22725b8da56dee9fb99b3a5459c164430f4920d13\"}\n",
      "\n",
      "Paste the above JSON into a file, and connect with:\n",
      "    $> jupyter <app> --existing <file>\n",
      "or, if you are local, you can connect with just:\n",
      "    $> jupyter <app> --existing c:\\Users\\abbas\\AppData\\Roaming\\jupyter\\runtime\\kernel-v2-3356gyvkbJ5XvcD2.json\n",
      "or even just:\n",
      "    $> jupyter <app> --existing\n",
      "if this is the most recent Jupyter kernel you have started.\n"
     ]
    }
   ],
   "source": []
  }
 ],
 "metadata": {
  "kernelspec": {
   "display_name": "Python 3",
   "language": "python",
   "name": "python3"
  },
  "language_info": {
   "codemirror_mode": {
    "name": "ipython",
    "version": 3
   },
   "file_extension": ".py",
   "mimetype": "text/x-python",
   "name": "python",
   "nbconvert_exporter": "python",
   "pygments_lexer": "ipython3",
   "version": "3.12.4"
  }
 },
 "nbformat": 4,
 "nbformat_minor": 2
}
