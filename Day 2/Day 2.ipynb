{
 "cells": [
  {
   "cell_type": "markdown",
   "metadata": {},
   "source": [
    "# Data Types"
   ]
  },
  {
   "cell_type": "markdown",
   "metadata": {},
   "source": [
    "Python Primitive Data Types:\n",
    "\n",
    "1. String\n",
    "2. Integers\n",
    "3. Floats\n",
    "4. Booleans"
   ]
  },
  {
   "cell_type": "markdown",
   "metadata": {},
   "source": [
    "Subscripting\n"
   ]
  },
  {
   "cell_type": "code",
   "execution_count": 20,
   "metadata": {},
   "outputs": [
    {
     "name": "stdout",
     "output_type": "stream",
     "text": [
      "o\n",
      "l\n",
      "ct\n"
     ]
    }
   ],
   "source": [
    "# Subscripting\n",
    "\n",
    "print(\"Hello\"[4])  \n",
    "print(\"Hello\"[-3])  # We can also give index negative numbers so here the index start from last\n",
    "\n",
    "a=\"Welcome to programming\"\n",
    "\n",
    "print(a[3]+a[8])"
   ]
  },
  {
   "cell_type": "markdown",
   "metadata": {},
   "source": [
    "String"
   ]
  },
  {
   "cell_type": "code",
   "execution_count": 12,
   "metadata": {},
   "outputs": [
    {
     "name": "stdout",
     "output_type": "stream",
     "text": [
      "123456\n"
     ]
    }
   ],
   "source": [
    "#String\n",
    "print(\"123\" + \"456\")  #when we give anything in double quotes it will consider itself as string"
   ]
  },
  {
   "cell_type": "markdown",
   "metadata": {},
   "source": [
    "Integers"
   ]
  },
  {
   "cell_type": "code",
   "execution_count": 22,
   "metadata": {},
   "outputs": [
    {
     "name": "stdout",
     "output_type": "stream",
     "text": [
      "128\n",
      "1000000\n"
     ]
    }
   ],
   "source": [
    "#Integers = whole numbers\n",
    "\n",
    "print(123+5)\n",
    "\n",
    "#Large Numbers\n",
    "\n",
    "print(1_000_000)  #In python if we want to use like this \"1,000,000\" then just add underscore. \n",
    "#Note: the comma seperator will be removed while execution it will just for human visualization"
   ]
  },
  {
   "cell_type": "markdown",
   "metadata": {},
   "source": [
    "Float"
   ]
  },
  {
   "cell_type": "code",
   "execution_count": 17,
   "metadata": {},
   "outputs": [
    {
     "name": "stdout",
     "output_type": "stream",
     "text": [
      "34.34234\n"
     ]
    }
   ],
   "source": [
    "# Float = floating point number\n",
    "\n",
    "print(34.34234)"
   ]
  },
  {
   "cell_type": "markdown",
   "metadata": {},
   "source": [
    "Boolean"
   ]
  },
  {
   "cell_type": "code",
   "execution_count": 19,
   "metadata": {},
   "outputs": [
    {
     "name": "stdout",
     "output_type": "stream",
     "text": [
      "True\n",
      "False\n"
     ]
    }
   ],
   "source": [
    "#Boolean\n",
    "\n",
    "print(True)   # True first letter should be capital\n",
    "print(False)  #False first letter should be capital"
   ]
  },
  {
   "cell_type": "markdown",
   "metadata": {},
   "source": [
    "# Type Error, Checking and Conversion"
   ]
  },
  {
   "cell_type": "code",
   "execution_count": 24,
   "metadata": {},
   "outputs": [
    {
     "name": "stdout",
     "output_type": "stream",
     "text": [
      "8\n"
     ]
    }
   ],
   "source": [
    "# len(23242)   wrong\n",
    "\n",
    "print(len(str(23323424)))   # we have to convert to string then check the lenght\n"
   ]
  },
  {
   "cell_type": "markdown",
   "metadata": {},
   "source": [
    "Type Checking"
   ]
  },
  {
   "cell_type": "code",
   "execution_count": 28,
   "metadata": {},
   "outputs": [
    {
     "name": "stdout",
     "output_type": "stream",
     "text": [
      "<class 'int'>\n",
      "<class 'str'>\n",
      "<class 'bool'>\n",
      "<class 'float'>\n"
     ]
    }
   ],
   "source": [
    "print(type(343))\n",
    "print(type(\"Hello\"))\n",
    "print(type(True))\n",
    "print(type(234.232))"
   ]
  },
  {
   "cell_type": "markdown",
   "metadata": {},
   "source": [
    "Type Convertion OR Type Casting"
   ]
  },
  {
   "cell_type": "code",
   "execution_count": 3,
   "metadata": {},
   "outputs": [
    {
     "name": "stdout",
     "output_type": "stream",
     "text": [
      "232\n",
      "16\n",
      "128\n",
      "Number of Letters in your name:  5\n",
      "Number of Letters in your name is: 5\n"
     ]
    }
   ],
   "source": [
    "print(int(232))\n",
    "print(int(12+4))\n",
    "\n",
    "print(int(\"123\") + int(\"5\"))  # Earlier this was not possible.\n",
    "\n",
    "print(\"Number of Letters in your name: \", len(input(\"Enter Your Name\")))  # Method 1\n",
    "print(\"Number of Letters in your name is: \" + str(len(input(\"Enter your name\")))) #Method 2"
   ]
  },
  {
   "cell_type": "code",
   "execution_count": null,
   "metadata": {},
   "outputs": [],
   "source": []
  },
  {
   "cell_type": "markdown",
   "metadata": {},
   "source": [
    "# Mathematical Operators in Python"
   ]
  },
  {
   "cell_type": "markdown",
   "metadata": {},
   "source": [
    "Basic operators : +, -, *, /, **"
   ]
  },
  {
   "cell_type": "code",
   "execution_count": 7,
   "metadata": {},
   "outputs": [
    {
     "name": "stdout",
     "output_type": "stream",
     "text": [
      "4\n",
      "2\n",
      "16\n",
      "3.0\n",
      "<class 'float'>\n",
      "<class 'int'>\n",
      "16\n"
     ]
    }
   ],
   "source": [
    "print(2+2)\n",
    "print(4-2)\n",
    "print(4*4)\n",
    "print(12/4)\n",
    "print(type(12/4)) #Python will implicitily typecast to float\n",
    "print(type(12//4)) # Now it will be in Integer \n",
    "print(4**2)"
   ]
  },
  {
   "cell_type": "markdown",
   "metadata": {},
   "source": [
    "# Number Manupulation and F String in Python\n"
   ]
  },
  {
   "cell_type": "code",
   "execution_count": 10,
   "metadata": {},
   "outputs": [
    {
     "name": "stdout",
     "output_type": "stream",
     "text": [
      "342\n",
      "342\n",
      "342.23\n"
     ]
    }
   ],
   "source": [
    "# Flooring a number\n",
    "\n",
    "a=342.234234\n",
    "print(int(a))   # Floor\n",
    "\n",
    "print(round(a))\n",
    "\n",
    "print(round(a, 2))  # rounding upto 2 decimal places"
   ]
  },
  {
   "cell_type": "markdown",
   "metadata": {},
   "source": [
    "Assignment Operator\n",
    "+=\n",
    "-=\n",
    "*=\n",
    "/="
   ]
  },
  {
   "cell_type": "code",
   "execution_count": 17,
   "metadata": {},
   "outputs": [
    {
     "name": "stdout",
     "output_type": "stream",
     "text": [
      "1\n",
      "0\n",
      "Your score is : 0\n"
     ]
    }
   ],
   "source": [
    "score = 0\n",
    "score +=1\n",
    "\n",
    "print(score)\n",
    "\n",
    "score -=1\n",
    "\n",
    "print(score)\n",
    "\n",
    "print(\"Your score is : \" +str(score))"
   ]
  },
  {
   "cell_type": "markdown",
   "metadata": {},
   "source": [
    "F String\n",
    "\n",
    "In python, f string used to insert variable or expression into a string"
   ]
  },
  {
   "cell_type": "code",
   "execution_count": 19,
   "metadata": {},
   "outputs": [
    {
     "name": "stdout",
     "output_type": "stream",
     "text": [
      "I am 22 years old\n"
     ]
    }
   ],
   "source": [
    "age=22\n",
    "\n",
    "print(f\"I am {age} years old\")"
   ]
  },
  {
   "cell_type": "markdown",
   "metadata": {},
   "source": [
    "# Day 2 Project: Tip Calculator"
   ]
  },
  {
   "cell_type": "code",
   "execution_count": 35,
   "metadata": {},
   "outputs": [
    {
     "name": "stdout",
     "output_type": "stream",
     "text": [
      "Welcome To The Tip Calculator! \n",
      "Each person should pay: Rs 36.67\n"
     ]
    }
   ],
   "source": [
    "print(\"Welcome To The Tip Calculator! \")\n",
    "Total_Amount=int(input(\"What is The Total Amount? Rs \" ))\n",
    "\n",
    "Tip= int(input(\"What Percentage Tip Would You Like To Give? 10 12 15?\"))\n",
    "People_Count= int(input(\"How Many People To Split The Amount\"))\n",
    "\n",
    "Total_with_Tip =  ((Total_Amount)*(Tip/100))\n",
    "Final_Amount= Total_Amount+Total_with_Tip\n",
    "\n",
    "Amount_Per_Person=Final_Amount/People\n",
    "\n",
    "rounding=round(Amount_Per_Person,2)\n",
    "print(f\"Each person should pay: Rs {rounding}\" )\n"
   ]
  }
 ],
 "metadata": {
  "kernelspec": {
   "display_name": "Python 3",
   "language": "python",
   "name": "python3"
  },
  "language_info": {
   "codemirror_mode": {
    "name": "ipython",
    "version": 3
   },
   "file_extension": ".py",
   "mimetype": "text/x-python",
   "name": "python",
   "nbconvert_exporter": "python",
   "pygments_lexer": "ipython3",
   "version": "3.12.4"
  }
 },
 "nbformat": 4,
 "nbformat_minor": 2
}
