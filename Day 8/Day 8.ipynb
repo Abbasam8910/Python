{
 "cells": [
  {
   "cell_type": "markdown",
   "metadata": {},
   "source": [
    "# Function With Inputs\n"
   ]
  },
  {
   "cell_type": "code",
   "execution_count": 4,
   "metadata": {},
   "outputs": [
    {
     "name": "stdout",
     "output_type": "stream",
     "text": [
      "Hi\n",
      "Welcome\n",
      "To Programming\n"
     ]
    }
   ],
   "source": [
    "# Function\n",
    "def greet():\n",
    "    print(\"Hi\")\n",
    "    print(\"Welcome\")\n",
    "    print(\"To Programming\")\n",
    "\n",
    "greet()\n"
   ]
  },
  {
   "cell_type": "markdown",
   "metadata": {},
   "source": [
    "Function With Inputs"
   ]
  },
  {
   "cell_type": "code",
   "execution_count": 6,
   "metadata": {},
   "outputs": [
    {
     "name": "stdout",
     "output_type": "stream",
     "text": [
      "Hi Abbas\n",
      "How do you do Abbas\n",
      "Are you okay Abbas\n"
     ]
    }
   ],
   "source": [
    "# Function with input\n",
    "\n",
    "def greet(your_name):\n",
    "    print(f\"Hi {your_name}\")\n",
    "    print(f\"How do you do {your_name}\")\n",
    "    print(f\"Are you okay {your_name}\")\n",
    "\n",
    "greet(\"Abbas\")"
   ]
  }
 ],
 "metadata": {
  "kernelspec": {
   "display_name": ".venv",
   "language": "python",
   "name": "python3"
  },
  "language_info": {
   "codemirror_mode": {
    "name": "ipython",
    "version": 3
   },
   "file_extension": ".py",
   "mimetype": "text/x-python",
   "name": "python",
   "nbconvert_exporter": "python",
   "pygments_lexer": "ipython3",
   "version": "3.12.4"
  }
 },
 "nbformat": 4,
 "nbformat_minor": 2
}
