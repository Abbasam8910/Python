{
 "cells": [
  {
   "cell_type": "markdown",
   "metadata": {},
   "source": [
    "# Day 5 Project: Password Generator"
   ]
  },
  {
   "cell_type": "markdown",
   "metadata": {},
   "source": [
    "Easy Method \n",
    "\n",
    "-- Passwords have a pattern like first letters then numbers then symbols"
   ]
  },
  {
   "cell_type": "code",
   "execution_count": 5,
   "metadata": {},
   "outputs": [
    {
     "name": "stdout",
     "output_type": "stream",
     "text": [
      "########### WELCOME TO PASSWORD GENERATOR\n",
      "gXZ93048#%\n"
     ]
    }
   ],
   "source": [
    "import random\n",
    "print(\"########### WELCOME TO PASSWORD GENERATOR\")\n",
    "\n",
    "letters = ['a', 'b', 'c', 'd', 'e', 'f', 'g', 'h', 'i', 'j', 'k', 'l', 'm', 'n', 'o', 'p', 'q', 'r', 's', 't', 'u', 'v', 'w', 'x', 'y', 'z', 'A', 'B', 'C', 'D', 'E', 'F', 'G', 'H', 'I', 'J', 'K', 'L', 'M', 'N', 'O', 'P', 'Q', 'R', 'S', 'T', 'U', 'V', 'W', 'X', 'Y', 'Z']\n",
    "numbers = ['0', '1', '2', '3', '4', '5', '6', '7', '8', '9']\n",
    "symbols = ['!', '#', '$', '%', '&', '(', ')', '*', '+']\n",
    "\n",
    "\n",
    "User_letters=int(input(\"How Many Letters Would you Like to Add in Your Password:\"))\n",
    "User_numbers=int(input(\"How Many numbers Would you Like to Add in Your Password:\"))\n",
    "User_symbols=int(input(\"How Many symbols Would you Like to Add in Your Password:\"))\n",
    "\n",
    "random_letter=\"\"\n",
    "random_numbers=\"\"\n",
    "random_symobls=\"\"\n",
    "for x in range(User_letters):\n",
    "    random_letter= random_letter + random.choice(letters)\n",
    "for x in range(User_numbers):\n",
    "    random_numbers= random_numbers + random.choice(numbers)\n",
    "for x in range(User_symbols):\n",
    "    random_symobls= random_symobls + random.choice(symbols)\n",
    "\n",
    "print(random_letter+random_numbers+random_symobls)\n",
    "\n"
   ]
  },
  {
   "cell_type": "markdown",
   "metadata": {},
   "source": [
    "Hard Method\n",
    "\n",
    "-- Here password will not have any pattern it will be random"
   ]
  },
  {
   "cell_type": "code",
   "execution_count": 26,
   "metadata": {},
   "outputs": [
    {
     "name": "stdout",
     "output_type": "stream",
     "text": [
      "########### WELCOME TO PASSWORD GENERATOR\n",
      "['W', 'N', 'c', 'n', '1', '3', '4', '&', ')', '#']\n",
      "['W', '&', 'N', 'n', '1', '4', '3', '#', ')', 'c']\n",
      "Your password is W&Nn143#)c\n"
     ]
    }
   ],
   "source": [
    "import random\n",
    "print(\"########### WELCOME TO PASSWORD GENERATOR\")\n",
    "\n",
    "letters = ['a', 'b', 'c', 'd', 'e', 'f', 'g', 'h', 'i', 'j', 'k', 'l', 'm', 'n', 'o', 'p', 'q', 'r', 's', 't', 'u', 'v', 'w', 'x', 'y', 'z', 'A', 'B', 'C', 'D', 'E', 'F', 'G', 'H', 'I', 'J', 'K', 'L', 'M', 'N', 'O', 'P', 'Q', 'R', 'S', 'T', 'U', 'V', 'W', 'X', 'Y', 'Z']\n",
    "numbers = ['0', '1', '2', '3', '4', '5', '6', '7', '8', '9']\n",
    "symbols = ['!', '#', '$', '%', '&', '(', ')', '*', '+']\n",
    "\n",
    "\n",
    "User_letters=int(input(\"How Many Letters Would you Like to Add in Your Password:\"))\n",
    "User_numbers=int(input(\"How Many numbers Would you Like to Add in Your Password:\"))\n",
    "User_symbols=int(input(\"How Many symbols Would you Like to Add in Your Password:\"))\n",
    "\n",
    "password_list=[]\n",
    "for x in range(0, User_letters):\n",
    "    password_list.append(random.choice(letters))\n",
    "for x in range(0, User_numbers):\n",
    "    password_list.append(random.choice(numbers))\n",
    "for x in range(0, User_symbols):\n",
    "    password_list.append(random.choice(symbols))\n",
    "\n",
    "print(password_list)\n",
    "\n",
    "random.shuffle(password_list)\n",
    "\n",
    "print(password_list)\n",
    "password=\"\"\n",
    "for y in password_list:\n",
    "    password=password+y\n",
    "\n",
    "print(f\"Your password is {password}\")"
   ]
  }
 ],
 "metadata": {
  "kernelspec": {
   "display_name": ".venv",
   "language": "python",
   "name": "python3"
  },
  "language_info": {
   "codemirror_mode": {
    "name": "ipython",
    "version": 3
   },
   "file_extension": ".py",
   "mimetype": "text/x-python",
   "name": "python",
   "nbconvert_exporter": "python",
   "pygments_lexer": "ipython3",
   "version": "3.12.4"
  }
 },
 "nbformat": 4,
 "nbformat_minor": 2
}
