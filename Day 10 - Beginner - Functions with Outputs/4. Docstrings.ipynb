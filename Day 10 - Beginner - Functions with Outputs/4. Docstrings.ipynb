{
 "cells": [
  {
   "cell_type": "markdown",
   "metadata": {},
   "source": [
    "# Docstrings\n"
   ]
  },
  {
   "cell_type": "markdown",
   "metadata": {},
   "source": [
    "We can use Docstrings to write multiline comments that document our code"
   ]
  },
  {
   "cell_type": "code",
   "execution_count": 5,
   "metadata": {},
   "outputs": [
    {
     "name": "stdout",
     "output_type": "stream",
     "text": [
      "Sam Wreck\n"
     ]
    }
   ],
   "source": [
    "def format_name(f_name, l_name):\n",
    "    \"\"\" Take First Name and Last Name and format it to return \n",
    "    the title case of the version of the name.\"\"\"\n",
    "    formatted_f_name = f_name.title()\n",
    "    formatted_l_name = l_name.title()\n",
    "\n",
    "    return f\"{formatted_f_name} {formatted_l_name}\"\n",
    "\n",
    "    print(\"After Return nothing will execute\") \n",
    "\n",
    "\n",
    "print(format_name(\"SaM\",\"WreCK\"))"
   ]
  },
  {
   "cell_type": "code",
   "execution_count": null,
   "metadata": {},
   "outputs": [],
   "source": []
  },
  {
   "cell_type": "code",
   "execution_count": null,
   "metadata": {},
   "outputs": [],
   "source": []
  }
 ],
 "metadata": {
  "kernelspec": {
   "display_name": ".venv",
   "language": "python",
   "name": "python3"
  },
  "language_info": {
   "codemirror_mode": {
    "name": "ipython",
    "version": 3
   },
   "file_extension": ".py",
   "mimetype": "text/x-python",
   "name": "python",
   "nbconvert_exporter": "python",
   "pygments_lexer": "ipython3",
   "version": "3.12.4"
  }
 },
 "nbformat": 4,
 "nbformat_minor": 2
}
