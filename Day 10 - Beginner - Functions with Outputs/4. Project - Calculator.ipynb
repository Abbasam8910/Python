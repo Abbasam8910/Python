{
 "cells": [
  {
   "cell_type": "markdown",
   "metadata": {},
   "source": [
    "# Day 10 Project: Calculator"
   ]
  },
  {
   "cell_type": "code",
   "execution_count": null,
   "metadata": {},
   "outputs": [],
   "source": [
    "calculator_text=\"\"\"\n",
    "\n",
    "  ____      _            _       _             \n",
    " / ___|__ _| | ___ _   _| | __ _| |_ ___  _ __ \n",
    "| |   / _` | |/ __| | | | |/ _` | __/ _ \\| '__|\n",
    "| |__| (_| | | (__| |_| | | (_| | || (_) | |   \n",
    " \\____\\__,_|_|\\___|\\__,_|_|\\__,_|\\__\\___/|_|   \n",
    "\n",
    " \"\"\"\n",
    "\n",
    "Calculator_icon="
   ]
  }
 ],
 "metadata": {
  "kernelspec": {
   "display_name": ".venv",
   "language": "python",
   "name": "python3"
  },
  "language_info": {
   "name": "python",
   "version": "3.12.4"
  }
 },
 "nbformat": 4,
 "nbformat_minor": 2
}
