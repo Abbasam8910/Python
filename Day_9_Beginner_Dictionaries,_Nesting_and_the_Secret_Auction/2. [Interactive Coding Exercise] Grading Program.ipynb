{
 "cells": [
  {
   "cell_type": "markdown",
   "metadata": {},
   "source": [
    "# [Interactive Coding Exercise] Grading Program"
   ]
  }
 ],
 "metadata": {
  "kernelspec": {
   "display_name": ".venv",
   "language": "python",
   "name": "python3"
  },
  "language_info": {
   "name": "python",
   "version": "3.12.4"
  }
 },
 "nbformat": 4,
 "nbformat_minor": 2
}
